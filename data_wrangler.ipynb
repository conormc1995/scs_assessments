{
 "cells": [
  {
   "cell_type": "markdown",
   "metadata": {
    "cell_id": "00000-ecb88094-3c8e-4b6d-8421-96ea59542e5d",
    "deepnote_cell_type": "markdown",
    "tags": []
   },
   "source": [
    "### Import Data"
   ]
  },
  {
   "cell_type": "code",
   "execution_count": 1,
   "metadata": {
    "cell_id": "00000-802fdba9-20bf-4319-aaa5-bafe8baaa421",
    "deepnote_cell_type": "code",
    "deepnote_to_be_reexecuted": false,
    "execution_millis": 3,
    "execution_start": 1632845423850,
    "source_hash": "ec612c57",
    "tags": []
   },
   "outputs": [],
   "source": [
    "# Configuration\n",
    "import pandas as pd\n",
    "import numpy as np\n",
    "from numpy import nan\n",
    "import os\n",
    "import datetime as dt\n",
    "import matplotlib.pyplot as plt\n",
    "from IPython.display import HTML, display\n",
    "import tabulate\n",
    "from scipy import stats\n",
    "import re\n",
    "import statsmodels.api as sm\n",
    "import easygui\n",
    "\n",
    "# import sys\n",
    "# !conda install --yes --prefix {sys.prefix} tabulate\n",
    "# import sys\n",
    "# !pip install mixpanel\n",
    "\n",
    "\n",
    "\n",
    "pd.options.display.float_format = '{:,.2f}'.format"
   ]
  },
  {
   "cell_type": "code",
   "execution_count": 2,
   "metadata": {},
   "outputs": [],
   "source": [
    "## load repeatable functions\n",
    "from data_wrangler_utils import file_aggregator, get_files, get_user_files, string_array_to_array, vars_from_array_response, ndefine, dict_to_vars, reverse, get_results_table\n",
    "from data_wrangler_dicts import cat_to_num_dict, var_dict, score_dict"
   ]
  },
  {
   "cell_type": "code",
   "execution_count": 3,
   "metadata": {},
   "outputs": [],
   "source": [
    "desired_col_red = [\n",
    "    'event', 'time', 'distinct_id', 'language', 'categories', 'category_scores', \n",
    "    'question_labels', 'question_scores', 'response_id', 'total_score'\n",
    "]\n",
    "df_2021b = pd.read_csv('C:/Users/benar/Dropbox/0000 Jupyter/SCS/MixPanel/csvs/aggregated/mixpanel_events_from_2021-07-01_to_2021-12-31.csv', usecols=desired_col_red)\n",
    "df_2022a = pd.read_csv('C:/Users/benar/Dropbox/0000 Jupyter/SCS/MixPanel/csvs/aggregated/mixpanel_events_from_2022-01-01_to_2022-06-30.csv', usecols=desired_col_red)\n",
    "df_2022b = pd.read_csv('C:/Users/benar/Dropbox/0000 Jupyter/SCS/MixPanel/csvs/aggregated/mixpanel_events_from_2022-07-01_to_2022-10-31.csv', usecols=desired_col_red)\n"
   ]
  },
  {
   "cell_type": "code",
   "execution_count": 127,
   "metadata": {},
   "outputs": [],
   "source": [
    "df = df_2021b.append(df_2022a)\n",
    "\n",
    "df = df.append(df_2022b)\n",
    "\n",
    "df = df[df['event'] == 'Complete Assessment']\n"
   ]
  },
  {
   "cell_type": "code",
   "execution_count": 29,
   "metadata": {},
   "outputs": [],
   "source": [
    "# df.to_csv('C:/Users/benar/Dropbox/0000 Jupyter/SCS/MixPanel/scs_assessments/mixpanel_complete_assessment_events_from_2021-07-01_to_2022-10-31')\n",
    "df = pd.read_csv('C:/Users/benar/Dropbox/0000 Jupyter/SCS/MixPanel/scs_assessments/mixpanel_complete_assessment_events_from_2021-07-01_to_2022-10-31')"
   ]
  },
  {
   "cell_type": "markdown",
   "metadata": {
    "cell_id": "00006-347b5bf3-c19b-475a-b5ca-f8bd8b4ec78d",
    "deepnote_cell_type": "markdown",
    "tags": []
   },
   "source": [
    "### Recode and type the data"
   ]
  },
  {
   "cell_type": "code",
   "execution_count": 5,
   "metadata": {
    "cell_id": "00007-43778d50-a891-4ce2-b161-b3f70e862600",
    "deepnote_cell_type": "code",
    "deepnote_to_be_reexecuted": false,
    "execution_millis": 5975,
    "execution_start": 1632851251686,
    "source_hash": "89bb7e76",
    "tags": []
   },
   "outputs": [],
   "source": [
    "# data preprocess\n",
    "\n",
    "response_arrays = string_array_to_array(df.question_scores)\n",
    "\n",
    "        \n",
    "\n",
    "    "
   ]
  },
  {
   "cell_type": "code",
   "execution_count": 31,
   "metadata": {},
   "outputs": [],
   "source": [
    "# Create item-level variables and recode\n",
    "%run utils\n",
    "%run dicts\n",
    "var_dict = vars_from_array_response (response_arrays, var_dict)\n",
    "\n",
    "\n",
    "df_assessments_temp = dict_to_vars(df, var_dict)\n",
    "    \n",
    "col_names = [\n",
    "    \n",
    "    'event', 'time', 'distinct_id', 'language', 'response_id', \n",
    "    'categories', 'category_scores', 'question_labels', 'question_scores', 'total_score',\n",
    "    \n",
    "    'phq_suicide', 'phq_gad_1', 'phq_gad_2', 'phq_dep_1', 'phq_dep_2',\n",
    "    \n",
    "    'wemwbs_1', 'wemwbs_2', 'wemwbs_3', 'wemwbs_4', 'wemwbs_5', 'wemwbs_6',\n",
    "    'wemwbs_7', 'wemwbs_8', 'wemwbs_9', 'wemwbs_10', 'wemwbs_11',\n",
    "    'wemwbs_12', 'wemwbs_13', 'wemwbs_14', \n",
    "    \n",
    "    'retired', \n",
    "    \n",
    "    'wsas_1', 'wsas_2', 'wsas_3', 'wsas_4', 'wsas_5'\n",
    "]\n",
    "\n",
    "phq_names = [\n",
    "    'phq_suicide', 'phq_gad_1', 'phq_gad_2', 'phq_dep_1', 'phq_dep_2'\n",
    "]\n",
    "\n",
    "wemwbs_names = [\n",
    "    'wemwbs_1', 'wemwbs_2', 'wemwbs_3', 'wemwbs_4', 'wemwbs_5', 'wemwbs_6',\n",
    "    'wemwbs_7', 'wemwbs_8', 'wemwbs_9', 'wemwbs_10', 'wemwbs_11',\n",
    "    'wemwbs_12', 'wemwbs_13', 'wemwbs_14'\n",
    "]\n",
    "\n",
    "wsas_names = [\n",
    "    'wsas_1', 'wsas_2', 'wsas_3', 'wsas_4', 'wsas_5'\n",
    "]\n",
    "\n",
    "df_assessments = df_assessments_temp\n",
    "df_assessments[phq_names] = \\\n",
    "    df_assessments_temp[phq_names].replace(cat_to_num_dict).apply(pd.to_numeric, errors='coerce')\n"
   ]
  },
  {
   "cell_type": "code",
   "execution_count": 32,
   "metadata": {
    "cell_id": "00003-183f9cdd-f0e3-49b5-a9b3-1722e8adb2a5",
    "deepnote_cell_type": "code",
    "deepnote_to_be_reexecuted": false,
    "execution_millis": 133,
    "execution_start": 1632846260657,
    "source_hash": "82a1ce12",
    "tags": []
   },
   "outputs": [
    {
     "name": "stderr",
     "output_type": "stream",
     "text": [
      "C:\\Users\\benar\\AppData\\Local\\Temp/ipykernel_15888/3059554167.py:20: FutureWarning: Dropping of nuisance columns in DataFrame reductions (with 'numeric_only=None') is deprecated; in a future version this will raise TypeError.  Select only valid columns before calling the reduction.\n",
      "  wemwbs_score = df_assessments[wemwbs_names].mean(axis=1)*14)\n",
      "C:\\Users\\benar\\AppData\\Local\\Temp/ipykernel_15888/3059554167.py:22: FutureWarning: Dropping of nuisance columns in DataFrame reductions (with 'numeric_only=None') is deprecated; in a future version this will raise TypeError.  Select only valid columns before calling the reduction.\n",
      "  wsas_score = df_assessments[wsas_names].mean(axis=1)*5)\n"
     ]
    }
   ],
   "source": [
    "# Calculate Scores!\n",
    "\n",
    "wemwbs_names = [\n",
    "    'wemwbs_1', 'wemwbs_2', 'wemwbs_3', 'wemwbs_4', 'wemwbs_5', 'wemwbs_6',\n",
    "    'wemwbs_7', 'wemwbs_8', 'wemwbs_9', 'wemwbs_10', 'wemwbs_11',\n",
    "    'wemwbs_12', 'wemwbs_13', 'wemwbs_14'\n",
    "]\n",
    "\n",
    "wsas_names = [\n",
    "    'wsas_1', 'wsas_2', 'wsas_3', 'wsas_4', 'wsas_5'\n",
    "]\n",
    "\n",
    "df_assessments = df_assessments.assign( \n",
    "    phq_gad_score = df_assessments[['phq_gad_1', 'phq_gad_2']].mean(axis=1)*2)\n",
    "df_assessments = df_assessments.assign(\n",
    "    phq_dep_score = df_assessments[['phq_dep_1', 'phq_dep_2']].mean(axis=1)*2)\n",
    "df_assessments = df_assessments.assign(\n",
    "    phq_mood_score = df_assessments.phq_gad_score + df_assessments.phq_dep_score)\n",
    "df_assessments = df_assessments.assign(\n",
    "    wemwbs_score = df_assessments[wemwbs_names].mean(axis=1)*14)\n",
    "df_assessments = df_assessments.assign(\n",
    "    wsas_score = df_assessments[wsas_names].mean(axis=1)*5)\n"
   ]
  },
  {
   "cell_type": "code",
   "execution_count": 79,
   "metadata": {},
   "outputs": [
    {
     "name": "stderr",
     "output_type": "stream",
     "text": [
      "IOPub data rate exceeded.\n",
      "The notebook server will temporarily stop sending output\n",
      "to the client in order to avoid crashing it.\n",
      "To change this limit, set the config variable\n",
      "`--NotebookApp.iopub_data_rate_limit`.\n",
      "\n",
      "Current values:\n",
      "NotebookApp.iopub_data_rate_limit=1000000.0 (bytes/sec)\n",
      "NotebookApp.rate_limit_window=3.0 (secs)\n",
      "\n"
     ]
    }
   ],
   "source": []
  },
  {
   "cell_type": "code",
   "execution_count": 33,
   "metadata": {
    "cell_id": "00004-6ec3ba8e-5e6b-4443-888c-c22920721762",
    "deepnote_cell_type": "code",
    "deepnote_to_be_reexecuted": false,
    "execution_millis": 216,
    "execution_start": 1632846267300,
    "source_hash": "232491e3",
    "tags": []
   },
   "outputs": [],
   "source": [
    "# compare our scores to the pre-tabulated scores\n",
    "%run dicts\n",
    "df_assessments['cat_arrays'] = string_array_to_array(df_assessments.category_scores)\n",
    "\n",
    "score_dict = vars_from_array_response (df_assessments.cat_arrays, score_dict)\n",
    "\n",
    "df_assessments = dict_to_vars(df_assessments, score_dict, undefined=True)\n",
    "\n",
    "df_assessments.gs_mood_score = reverse(df_assessments.gs_mood_score, 12)\n",
    "df_assessments.gs_wsas_score = reverse(df_assessments.gs_wsas_score, 40)"
   ]
  },
  {
   "cell_type": "code",
   "execution_count": 34,
   "metadata": {},
   "outputs": [],
   "source": [
    "# set up datetime\n",
    "df_assessments['time'] = pd.to_datetime(df_assessments['time'], format='%Y-%m-%dT%H:%M:%S')"
   ]
  },
  {
   "cell_type": "code",
   "execution_count": 35,
   "metadata": {},
   "outputs": [
    {
     "data": {
      "text/plain": [
       "0        50.00\n",
       "1        49.00\n",
       "2        56.00\n",
       "3        22.00\n",
       "4        53.00\n",
       "          ... \n",
       "186290   31.00\n",
       "186291   49.00\n",
       "186292   32.00\n",
       "186293   31.00\n",
       "186294   45.00\n",
       "Name: gs_wemwbs_score, Length: 186295, dtype: float64"
      ]
     },
     "execution_count": 35,
     "metadata": {},
     "output_type": "execute_result"
    }
   ],
   "source": [
    "df_assessments['gs_wemwbs_score']"
   ]
  },
  {
   "cell_type": "markdown",
   "metadata": {},
   "source": [
    "### Create specialized datasets\n"
   ]
  },
  {
   "cell_type": "code",
   "execution_count": 37,
   "metadata": {
    "cell_id": "00007-5d454b57-32d5-4155-bd7a-fcb9d1218d45",
    "deepnote_cell_type": "code",
    "deepnote_to_be_reexecuted": false,
    "execution_millis": 18969,
    "execution_start": 1632846276610,
    "source_hash": "d9a1b329",
    "tags": []
   },
   "outputs": [],
   "source": [
    "# select the first observation for each individual\n",
    "\n",
    "# sort by ID and date\n",
    "df_assessments.sort_values(by=['distinct_id','time'], inplace=True, ascending=True)\n",
    "\n",
    "# first assessments, last assessments, and first and last for each uuid on a single line\n",
    "df_assess_first = df_assessments.groupby('distinct_id', as_index=False).first()\n",
    "df_assess_last = df_assessments.groupby('distinct_id', as_index=False).last()\n",
    "df_assess_last = df_assess_last.add_suffix('_last')\n",
    "df_assess_fl = df_assess_first.join(df_assess_last)\n",
    "\n",
    "# add a week index\n",
    "df_assess_first['week_index'] = ((df_assess_first.time - dt.datetime(2021, 1, 1)).dt.days / 7).astype(int)\n",
    "df_week = df_assess_first.groupby(df_assess_first.week_index).mean()\n",
    "\n",
    "\n"
   ]
  },
  {
   "cell_type": "code",
   "execution_count": 25,
   "metadata": {},
   "outputs": [],
   "source": [
    "# df_assessments.to_csv('mixpanel_processed_assessment_events_from_2021-07-01_to_2022-10-31')\n",
    "df_assessments = pd.read_csv('mixpanel_processed_assessment_events_from_2021-07-01_to_2022-10-31')\n",
    "df_assessments['time'] = pd.to_datetime(df_assessments['time'])\n",
    "# df_assess_fl.to_csv('C:/Users/benar/Dropbox/0000 Jupyter/SCS/MixPanel/scs_assessments/mixpanel_users_assess_fl_scores_from_2021-07-01_to_2022-10-31')\n",
    "df_assess_fl = pd.read_csv('C:/Users/benar/Dropbox/0000 Jupyter/SCS/MixPanel/scs_assessments/mixpanel_users_assess_fl_scores_from_2021-07-01_to_2022-10-31')\n",
    "df_assess_fl['time'] = pd.to_datetime(df_assess_fl['time'])\n",
    "df_assess_fl['time_last'] = pd.to_datetime(df_assess_fl['time_last'])"
   ]
  },
  {
   "cell_type": "markdown",
   "metadata": {},
   "source": [
    "### Analyses - Change scores"
   ]
  },
  {
   "cell_type": "code",
   "execution_count": 45,
   "metadata": {
    "cell_id": "00011-4652df5a-dd51-409c-ac6f-f56dcecc59a3",
    "deepnote_cell_type": "code",
    "deepnote_to_be_reexecuted": false,
    "execution_millis": 9422,
    "execution_start": 1632846380879,
    "source_hash": "45e9254f",
    "tags": []
   },
   "outputs": [
    {
     "data": {
      "image/png": "[encoded data removed]",
      "text/plain": [
       "<Figure size 432x288 with 1 Axes>"
      ]
     },
     "metadata": {
      "needs_background": "light"
     },
     "output_type": "display_data"
    },
    {
     "data": {
      "text/html": [
       "<table>\n",
       "<thead>\n",
       "<tr><th>var  </th><th style=\"text-align: right;\">  diff</th><th style=\"text-align: right;\">  sd</th><th style=\"text-align: right;\">    d</th></tr>\n",
       "</thead>\n",
       "<tbody>\n",
       "<tr><td>mood </td><td style=\"text-align: right;\"> -0.88</td><td style=\"text-align: right;\">3.25</td><td style=\"text-align: right;\">-0.27</td></tr>\n",
       "<tr><td>wb   </td><td style=\"text-align: right;\">  2.00</td><td style=\"text-align: right;\">9.96</td><td style=\"text-align: right;\"> 0.20</td></tr>\n",
       "<tr><td>func </td><td style=\"text-align: right;\"> -0.87</td><td style=\"text-align: right;\">8.65</td><td style=\"text-align: right;\">-0.10</td></tr>\n",
       "</tbody>\n",
       "</table>"
      ],
      "text/plain": [
       "'<table>\\n<thead>\\n<tr><th>var  </th><th style=\"text-align: right;\">  diff</th><th style=\"text-align: right;\">  sd</th><th style=\"text-align: right;\">    d</th></tr>\\n</thead>\\n<tbody>\\n<tr><td>mood </td><td style=\"text-align: right;\"> -0.88</td><td style=\"text-align: right;\">3.25</td><td style=\"text-align: right;\">-0.27</td></tr>\\n<tr><td>wb   </td><td style=\"text-align: right;\">  2.00</td><td style=\"text-align: right;\">9.96</td><td style=\"text-align: right;\"> 0.20</td></tr>\\n<tr><td>func </td><td style=\"text-align: right;\"> -0.87</td><td style=\"text-align: right;\">8.65</td><td style=\"text-align: right;\">-0.10</td></tr>\\n</tbody>\\n</table>'"
      ]
     },
     "metadata": {},
     "output_type": "display_data"
    }
   ],
   "source": [
    "# Change scores for people w 2 questionnaires, separated by X days\n",
    "%run utils\n",
    "\n",
    "df_assess_fl['total_time'] = (df_assess_fl.time_last - df_assess_fl.time).dt.days\n",
    "df_assess_fl['dep_diff'] = (df_assess_fl.phq_dep_score_last - df_assess_fl.phq_dep_score)\n",
    "df_assess_fl['anx_diff'] = (df_assess_fl.phq_gad_score_last - df_assess_fl.phq_gad_score)\n",
    "df_assess_fl['mood_diff'] = (df_assess_fl.gs_mood_score_last - df_assess_fl.gs_mood_score)\n",
    "df_assess_fl['func_diff'] = (df_assess_fl.gs_wsas_score_last - df_assess_fl.gs_wsas_score)\n",
    "df_assess_fl['wb_diff'] = (df_assess_fl.gs_wemwbs_score_last - df_assess_fl.gs_wemwbs_score)\n",
    "\n",
    "morethanone = df_assess_fl.loc[df_assess_fl['total_time'] > 14]\n",
    "\n",
    "ax = morethanone['total_time'].plot(kind='hist', bins=15)\n",
    "ax.set_xlabel('TOTAL_TIME')\n",
    "ax.set_ylabel('Frequency')\n",
    "plt.show()\n",
    "\n",
    "\n",
    "headers = ['var', 'diff', 'sd', 'd']\n",
    "score_vars = ['mood_diff', 'wb_diff', 'func_diff']\n",
    "score_labels = ['mood', 'wb', 'func']\n",
    "\n",
    "get_results_table(morethanone, headers, score_vars, score_labels, d=True)\n",
    "\n"
   ]
  },
  {
   "cell_type": "code",
   "execution_count": 47,
   "metadata": {},
   "outputs": [
    {
     "data": {
      "text/plain": [
       "Index(['Unnamed: 0', 'event', 'time', 'distinct_id', 'device',\n",
       "       'initial_referrer', 'initial_referring_domain', 'os',\n",
       "       'referring_domain', 'language', 'url', 'url_name', 'timestamp'],\n",
       "      dtype='object')"
      ]
     },
     "execution_count": 47,
     "metadata": {},
     "output_type": "execute_result"
    }
   ],
   "source": [
    "df_accesses = pd.read_csv('C:/Users/benar/Dropbox/0000 Jupyter/SCS/MixPanel/csvs/processed/mixpanel_use_resource_unduplicated_events_from_2020-04-05_to_2022-10-31.csv')\n",
    "df_accesses.columns"
   ]
  },
  {
   "cell_type": "code",
   "execution_count": 64,
   "metadata": {
    "cell_id": "00015-19026d10-de4b-4c1e-8084-44287838fd2e",
    "deepnote_cell_type": "code",
    "deepnote_to_be_reexecuted": false,
    "execution_millis": 586,
    "execution_start": 1632846415093,
    "source_hash": "9b6a81ea",
    "tags": []
   },
   "outputs": [
    {
     "name": "stdout",
     "output_type": "stream",
     "text": [
      "22905\n",
      "22905 6364\n"
     ]
    },
    {
     "data": {
      "text/html": [
       "<table>\n",
       "<thead>\n",
       "<tr><th>var  </th><th style=\"text-align: right;\">  diff</th><th style=\"text-align: right;\">   sd</th><th style=\"text-align: right;\">    d</th></tr>\n",
       "</thead>\n",
       "<tbody>\n",
       "<tr><td>anx  </td><td style=\"text-align: right;\">  0.63</td><td style=\"text-align: right;\"> 1.83</td><td style=\"text-align: right;\"> 0.35</td></tr>\n",
       "<tr><td>dep  </td><td style=\"text-align: right;\">  0.64</td><td style=\"text-align: right;\"> 1.82</td><td style=\"text-align: right;\"> 0.35</td></tr>\n",
       "<tr><td>mood </td><td style=\"text-align: right;\"> -1.07</td><td style=\"text-align: right;\"> 3.21</td><td style=\"text-align: right;\">-0.33</td></tr>\n",
       "<tr><td>wb   </td><td style=\"text-align: right;\">  2.56</td><td style=\"text-align: right;\">10.03</td><td style=\"text-align: right;\"> 0.25</td></tr>\n",
       "<tr><td>func </td><td style=\"text-align: right;\"> -1.21</td><td style=\"text-align: right;\"> 8.93</td><td style=\"text-align: right;\">-0.14</td></tr>\n",
       "</tbody>\n",
       "</table>"
      ],
      "text/plain": [
       "'<table>\\n<thead>\\n<tr><th>var  </th><th style=\"text-align: right;\">  diff</th><th style=\"text-align: right;\">   sd</th><th style=\"text-align: right;\">    d</th></tr>\\n</thead>\\n<tbody>\\n<tr><td>anx  </td><td style=\"text-align: right;\">  0.63</td><td style=\"text-align: right;\"> 1.83</td><td style=\"text-align: right;\"> 0.35</td></tr>\\n<tr><td>dep  </td><td style=\"text-align: right;\">  0.64</td><td style=\"text-align: right;\"> 1.82</td><td style=\"text-align: right;\"> 0.35</td></tr>\\n<tr><td>mood </td><td style=\"text-align: right;\"> -1.07</td><td style=\"text-align: right;\"> 3.21</td><td style=\"text-align: right;\">-0.33</td></tr>\\n<tr><td>wb   </td><td style=\"text-align: right;\">  2.56</td><td style=\"text-align: right;\">10.03</td><td style=\"text-align: right;\"> 0.25</td></tr>\\n<tr><td>func </td><td style=\"text-align: right;\"> -1.21</td><td style=\"text-align: right;\"> 8.93</td><td style=\"text-align: right;\">-0.14</td></tr>\\n</tbody>\\n</table>'"
      ]
     },
     "metadata": {},
     "output_type": "display_data"
    },
    {
     "data": {
      "text/html": [
       "<table>\n",
       "<thead>\n",
       "<tr><th>var  </th><th style=\"text-align: right;\">  diff</th><th style=\"text-align: right;\">  sd</th><th style=\"text-align: right;\">    d</th></tr>\n",
       "</thead>\n",
       "<tbody>\n",
       "<tr><td>anx  </td><td style=\"text-align: right;\">  0.67</td><td style=\"text-align: right;\">1.88</td><td style=\"text-align: right;\"> 0.36</td></tr>\n",
       "<tr><td>dep  </td><td style=\"text-align: right;\">  0.68</td><td style=\"text-align: right;\">1.87</td><td style=\"text-align: right;\"> 0.36</td></tr>\n",
       "<tr><td>mood </td><td style=\"text-align: right;\"> -1.36</td><td style=\"text-align: right;\">3.28</td><td style=\"text-align: right;\">-0.42</td></tr>\n",
       "<tr><td>wb   </td><td style=\"text-align: right;\">  3.18</td><td style=\"text-align: right;\">9.92</td><td style=\"text-align: right;\"> 0.32</td></tr>\n",
       "<tr><td>func </td><td style=\"text-align: right;\"> -1.55</td><td style=\"text-align: right;\">8.81</td><td style=\"text-align: right;\">-0.18</td></tr>\n",
       "</tbody>\n",
       "</table>"
      ],
      "text/plain": [
       "'<table>\\n<thead>\\n<tr><th>var  </th><th style=\"text-align: right;\">  diff</th><th style=\"text-align: right;\">  sd</th><th style=\"text-align: right;\">    d</th></tr>\\n</thead>\\n<tbody>\\n<tr><td>anx  </td><td style=\"text-align: right;\">  0.67</td><td style=\"text-align: right;\">1.88</td><td style=\"text-align: right;\"> 0.36</td></tr>\\n<tr><td>dep  </td><td style=\"text-align: right;\">  0.68</td><td style=\"text-align: right;\">1.87</td><td style=\"text-align: right;\"> 0.36</td></tr>\\n<tr><td>mood </td><td style=\"text-align: right;\"> -1.36</td><td style=\"text-align: right;\">3.28</td><td style=\"text-align: right;\">-0.42</td></tr>\\n<tr><td>wb   </td><td style=\"text-align: right;\">  3.18</td><td style=\"text-align: right;\">9.92</td><td style=\"text-align: right;\"> 0.32</td></tr>\\n<tr><td>func </td><td style=\"text-align: right;\"> -1.55</td><td style=\"text-align: right;\">8.81</td><td style=\"text-align: right;\">-0.18</td></tr>\\n</tbody>\\n</table>'"
      ]
     },
     "metadata": {},
     "output_type": "display_data"
    },
    {
     "name": "stdout",
     "output_type": "stream",
     "text": [
      "6364 3301\n"
     ]
    }
   ],
   "source": [
    "# Compute number of resources accessed per user\n",
    "# Compute number of weeks with a resource accessed\n",
    "date1 = '2022-01-01'\n",
    "date2 = '2022-03-31'\n",
    "\n",
    "df_work = df_assess_fl[(df_assess_fl['time'] >= date1) & (df_assess_fl['time'] <= date2)]\n",
    "print(len(df_work))\n",
    "df_access_count = df_accesses.groupby('distinct_id').count()\n",
    "\n",
    "df_access_count2 = df_access_count[['timestamp']]\n",
    "\n",
    "df_access_count2.columns = ['access_count']\n",
    "\n",
    "df_work = pd.merge(df_work, df_access_count2[['access_count']], on='distinct_id', how='left') \n",
    "df_work['access_count'] = df_work['access_count'].fillna(0)\n",
    "\n",
    "\n",
    "df_work_14 = df_work[df_work['total_time'] >= 14]\n",
    "print(len(df_work), len(df_work_14))\n",
    "\n",
    "\n",
    "# df_assess_fl_oneplus['total_time'] = (df_assess_fl_oneplus.timestamp_last - df_assess_fl_oneplus.timestamp).dt.days\n",
    "# df_assess_fl_oneplus['dep_diff'] = (df_assess_fl_oneplus.phq_dep_score_last - df_assess_fl_oneplus.phq_dep_score)\n",
    "# df_assess_fl_oneplus['anx_diff'] = (df_assess_fl_oneplus.phq_gad_score_last - df_assess_fl_oneplus.phq_gad_score)\n",
    "# df_assess_fl_oneplus['mood_diff'] = (df_assess_fl_oneplus.phq_mood_score_last - df_assess_fl_oneplus.phq_mood_score)\n",
    "# df_assess_fl_oneplus['func_diff'] = (df_assess_fl_oneplus.wsas_score_last - df_assess_fl_oneplus.wsas_score)\n",
    "# df_assess_fl_oneplus['wb_diff'] = (df_assess_fl_oneplus.wemwbs_score_last - df_assess_fl_oneplus.wemwbs_score)\n",
    "\n",
    "morethanone = df_work_14[df_work_14['access_count'] >= 1]\n",
    "\n",
    "headers = ['var', 'diff', 'sd', 'd']\n",
    "score_vars = ['anx_diff', 'dep_diff', 'mood_diff', 'wb_diff', 'func_diff']\n",
    "score_labels = ['anx', 'dep', 'mood', 'wb', 'func']\n",
    "\n",
    "get_results_table(df_work_14, headers, score_vars, score_labels, d=True)\n",
    "get_results_table(morethanone, headers, score_vars, score_labels, d=True)\n"
   ]
  },
  {
   "cell_type": "code",
   "execution_count": 40,
   "metadata": {},
   "outputs": [],
   "source": [
    "columns = [\n",
    "    'uuid', 'timestamp', 'phq_suicide', 'retired', \n",
    "    'wsas_1', 'wsas_2', 'wsas_3', 'wsas_4', 'wsas_5', \n",
    "    'phq_gad_score', 'phq_dep_score', 'phq_mood_score', 'wemwbs_score', 'wsas_score', \n",
    "    'timestamp_last', 'phq_suicide_last', 'retired_last',\n",
    "    'wsas_1_last', 'wsas_2_last', 'wsas_3_last', 'wsas_4_last', 'wsas_5_last', \n",
    "    'phq_dep_score_last', 'phq_mood_score_last', 'wemwbs_score_last', 'wsas_score_last'\n",
    "]\n",
    "df_assess_fl_new.to_csv('WTC Assessments - ' + months[0] + ' to ' + months[-1] + '.csv', columns = columns, index=False)"
   ]
  }
 ],
 "metadata": {
  "deepnote": {
   "is_reactive": false
  },
  "deepnote_app_layout": "dashboard",
  "deepnote_execution_queue": [],
  "deepnote_notebook_id": "16cc3c02-75ee-47b0-a971-63839df9285c",
  "kernelspec": {
   "display_name": "Python 3 (ipykernel)",
   "language": "python",
   "name": "python3"
  },
  "language_info": {
   "codemirror_mode": {
    "name": "ipython",
    "version": 3
   },
   "file_extension": ".py",
   "mimetype": "text/x-python",
   "name": "python",
   "nbconvert_exporter": "python",
   "pygments_lexer": "ipython3",
   "version": "3.8.5"
  }
 },
 "nbformat": 4,
 "nbformat_minor": 2
}
