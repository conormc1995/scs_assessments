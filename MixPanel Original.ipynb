{
 "cells": [
  {
   "cell_type": "markdown",
   "metadata": {
    "cell_id": "00000-ecb88094-3c8e-4b6d-8421-96ea59542e5d",
    "deepnote_cell_type": "markdown",
    "tags": []
   },
   "source": [
    "### Import Data"
   ]
  },
  {
   "cell_type": "code",
   "execution_count": 2,
   "metadata": {
    "cell_id": "00000-802fdba9-20bf-4319-aaa5-bafe8baaa421",
    "deepnote_cell_type": "code",
    "deepnote_to_be_reexecuted": false,
    "execution_millis": 3,
    "execution_start": 1632845423850,
    "source_hash": "ec612c57",
    "tags": []
   },
   "outputs": [],
   "source": [
    "# Configuration\n",
    "import pandas as pd\n",
    "import datetime as dt"
   ]
  },
  {
   "cell_type": "code",
   "execution_count": 3,
   "metadata": {},
   "outputs": [
    {
     "name": "stdout",
     "output_type": "stream",
     "text": [
      "finished file:  2022-02-01 to 2022-02-02 in  18\n"
     ]
    }
   ],
   "source": [
    "# Download/process mixpanel events and output to csvs\n",
    "%run date_list\n",
    "from date_list import date_list, desired_col\n",
    "from utils import download_raw_mixpanel, get_grouped_event\n",
    "\n",
    "%run utils\n",
    "%run date_list\n",
    "\n",
    "download_raw_mixpanel(date_list)\n"
   ]
  },
  {
   "cell_type": "code",
   "execution_count": null,
   "metadata": {},
   "outputs": [],
   "source": [
    "#Load all csvs in desired folder and turn them into one dataframe\n",
    "\n",
    "df_2020 = csv_aggregator('csvs/2020')\n",
    "df_2020['timestamp'] = pd.to_datetime(df_2020['time'])"
   ]
  }
 ],
 "metadata": {
  "deepnote": {
   "is_reactive": false
  },
  "deepnote_app_layout": "dashboard",
  "deepnote_execution_queue": [],
  "deepnote_notebook_id": "16cc3c02-75ee-47b0-a971-63839df9285c",
  "kernelspec": {
   "display_name": "Python 3 (ipykernel)",
   "language": "python",
   "name": "python3"
  },
  "language_info": {
   "codemirror_mode": {
    "name": "ipython",
    "version": 3
   },
   "file_extension": ".py",
   "mimetype": "text/x-python",
   "name": "python",
   "nbconvert_exporter": "python",
   "pygments_lexer": "ipython3",
   "version": "3.8.5"
  }
 },
 "nbformat": 4,
 "nbformat_minor": 2
}
