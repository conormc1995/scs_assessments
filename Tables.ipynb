{
 "cells": [
  {
   "cell_type": "code",
   "execution_count": 1,
   "metadata": {},
   "outputs": [],
   "source": [
    "from utils2 import *"
   ]
  },
  {
   "cell_type": "code",
   "execution_count": 2,
   "metadata": {},
   "outputs": [
    {
     "name": "stdout",
     "output_type": "stream",
     "text": [
      "Data from 2020-04-07 to 2022-03-31\n"
     ]
    }
   ],
   "source": [
    "get_date_range()"
   ]
  },
  {
   "cell_type": "code",
   "execution_count": 3,
   "metadata": {},
   "outputs": [],
   "source": [
    "# Set the dates of interest\n",
    "\n",
    "date1 = '2022-01-01'\n",
    "\n",
    "date2 = '2022-03-01'"
   ]
  },
  {
   "cell_type": "code",
   "execution_count": 4,
   "metadata": {},
   "outputs": [
    {
     "name": "stdout",
     "output_type": "stream",
     "text": [
      "                        Average of the difference divided by std\n",
      "+----+-------------+--------------+-----------+------------+----------------+--------------+\n",
      "|    |   num users |   Depression |   Anxiety |       Mood |   Funcionality |   Well Being |\n",
      "|----+-------------+--------------+-----------+------------+----------------+--------------|\n",
      "|    |       15475 |    -0.049199 | -0.062142 | -0.0637154 |     -0.0228902 |    0.0423101 |\n",
      "+----+-------------+--------------+-----------+------------+----------------+--------------+\n"
     ]
    }
   ],
   "source": [
    "print_averages(date1, date2)"
   ]
  },
  {
   "cell_type": "code",
   "execution_count": 5,
   "metadata": {},
   "outputs": [
    {
     "name": "stdout",
     "output_type": "stream",
     "text": [
      "---------------------------------------------\n",
      "Mood change between 2022-01-01 and 2022-03-01\n",
      "---------------------------------------------\n"
     ]
    },
    {
     "data": {
      "text/plain": [
       "Middle --> Middle        4410\n",
       "Severe --> Severe        3816\n",
       "Moderate --> Moderate    3606\n",
       "Normal --> Normal        2469\n",
       "Moderate --> Middle       246\n",
       "Severe --> Moderate       164\n",
       "Severe --> Middle         156\n",
       "Middle --> Normal         152\n",
       "Moderate --> Severe       118\n",
       "Middle --> Moderate       113\n",
       "Normal --> Middle          91\n",
       "Middle --> Severe          44\n",
       "Moderate --> Normal        42\n",
       "Severe --> Normal          25\n",
       "Normal --> Moderate        20\n",
       "Normal --> Severe           3\n",
       "Name: cat_change, dtype: int64"
      ]
     },
     "execution_count": 5,
     "metadata": {},
     "output_type": "execute_result"
    }
   ],
   "source": [
    "mood_change(date1, date2)"
   ]
  },
  {
   "cell_type": "code",
   "execution_count": 6,
   "metadata": {},
   "outputs": [
    {
     "name": "stdout",
     "output_type": "stream",
     "text": [
      "\n",
      "       Depression  -  Averages from 2022-01-01 to 2022-03-01\n",
      "\n",
      "+----+-------------+---------+---------+------------+------------+\n",
      "|    |   num users |   First |    Last |       Diff |   Diff/std |\n",
      "|----+-------------+---------+---------+------------+------------|\n",
      "|    |       15475 | 2.81351 | 2.76013 | -0.0533764 |  -0.049199 |\n",
      "+----+-------------+---------+---------+------------+------------+\n",
      "\n",
      "       Anxiety  -  Averages from 2022-01-01 to 2022-03-01\n",
      "\n",
      "+----+-------------+---------+---------+------------+------------+\n",
      "|    |   num users |   First |    Last |       Diff |   Diff/std |\n",
      "|----+-------------+---------+---------+------------+------------|\n",
      "|    |       15475 | 3.24407 | 3.17641 | -0.0676575 |  -0.062142 |\n",
      "+----+-------------+---------+---------+------------+------------+\n",
      "\n",
      "       Mood  -  Averages from 2022-01-01 to 2022-03-01\n",
      "\n",
      "+----+-------------+---------+---------+-----------+------------+\n",
      "|    |   num users |   First |    Last |      Diff |   Diff/std |\n",
      "|----+-------------+---------+---------+-----------+------------|\n",
      "|    |       15475 | 6.05758 | 5.93654 | -0.121034 | -0.0637154 |\n",
      "+----+-------------+---------+---------+-----------+------------+\n",
      "\n",
      "       Functionality  -  Averages from 2022-01-01 to 2022-03-01\n",
      "\n",
      "+----+-------------+---------+---------+-----------+------------+\n",
      "|    |   num users |   First |    Last |      Diff |   Diff/std |\n",
      "|----+-------------+---------+---------+-----------+------------|\n",
      "|    |       15475 | 17.2396 | 17.1261 | -0.113473 | -0.0228902 |\n",
      "+----+-------------+---------+---------+-----------+------------+\n",
      "\n",
      "       Well Being  -  Averages from 2022-01-01 to 2022-03-01\n",
      "\n",
      "+----+-------------+---------+---------+----------+------------+\n",
      "|    |   num users |   First |    Last |     Diff |   Diff/std |\n",
      "|----+-------------+---------+---------+----------+------------|\n",
      "|    |       15475 |  37.832 | 38.0724 | 0.240452 |  0.0423101 |\n",
      "+----+-------------+---------+---------+----------+------------+\n"
     ]
    }
   ],
   "source": [
    "print_averages(date1, date2, 'dep')\n",
    "print_averages(date1, date2, 'anx')\n",
    "print_averages(date1, date2, 'mood')\n",
    "print_averages(date1, date2, 'func')\n",
    "print_averages(date1, date2, 'wb')"
   ]
  }
 ],
 "metadata": {
  "kernelspec": {
   "display_name": "Python 3",
   "language": "python",
   "name": "python3"
  },
  "language_info": {
   "codemirror_mode": {
    "name": "ipython",
    "version": 3
   },
   "file_extension": ".py",
   "mimetype": "text/x-python",
   "name": "python",
   "nbconvert_exporter": "python",
   "pygments_lexer": "ipython3",
   "version": "3.8.5"
  }
 },
 "nbformat": 4,
 "nbformat_minor": 4
}
