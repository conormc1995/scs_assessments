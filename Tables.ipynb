{
 "cells": [
  {
   "cell_type": "code",
   "execution_count": 1,
   "metadata": {},
   "outputs": [],
   "source": [
    "from utils2 import *"
   ]
  },
  {
   "cell_type": "code",
   "execution_count": 2,
   "metadata": {},
   "outputs": [],
   "source": [
    "# Set the dates of interest\n",
    "\n",
    "date1 = '2022-01-19'\n",
    "\n",
    "date2 = '2022-02-25'"
   ]
  },
  {
   "cell_type": "code",
   "execution_count": 3,
   "metadata": {},
   "outputs": [
    {
     "name": "stdout",
     "output_type": "stream",
     "text": [
      "+----+-------------+-------------+-------------+--------------+--------------+------------+\n",
      "|    |   num_users |   dep_d_avg |   anx_d_avg |   mood_d_avg |   func_d_avg |   wb_d_avg |\n",
      "|----+-------------+-------------+-------------+--------------+--------------+------------|\n",
      "|    |      159943 |  -0.0413192 |  -0.0425668 |   -0.0479955 |   -0.0154701 |  0.0352649 |\n",
      "+----+-------------+-------------+-------------+--------------+--------------+------------+\n"
     ]
    }
   ],
   "source": [
    "print_averages(date1, date2)"
   ]
  },
  {
   "cell_type": "code",
   "execution_count": 4,
   "metadata": {},
   "outputs": [
    {
     "data": {
      "text/plain": [
       "Middle to Middle        2063\n",
       "Severe to Severe        1933\n",
       "Moderate to Moderate    1746\n",
       "Normal to Normal        1131\n",
       "Moderate to Middle        79\n",
       "Severe to Middle          56\n",
       "Severe to Moderate        50\n",
       "Middle to Normal          46\n",
       "Middle to Moderate        43\n",
       "Moderate to Severe        40\n",
       "Normal to Middle          24\n",
       "Moderate to Normal        16\n",
       "Middle to Severe           9\n",
       "Severe to Normal           7\n",
       "Normal to Moderate         7\n",
       "Name: cat_change, dtype: int64"
      ]
     },
     "execution_count": 4,
     "metadata": {},
     "output_type": "execute_result"
    }
   ],
   "source": [
    "mood_change(date1, date2)"
   ]
  }
 ],
 "metadata": {
  "kernelspec": {
   "display_name": "Python 3",
   "language": "python",
   "name": "python3"
  },
  "language_info": {
   "codemirror_mode": {
    "name": "ipython",
    "version": 3
   },
   "file_extension": ".py",
   "mimetype": "text/x-python",
   "name": "python",
   "nbconvert_exporter": "python",
   "pygments_lexer": "ipython3",
   "version": "3.8.5"
  }
 },
 "nbformat": 4,
 "nbformat_minor": 4
}
