{
 "cells": [
  {
   "cell_type": "markdown",
   "metadata": {
    "cell_id": "00000-ecb88094-3c8e-4b6d-8421-96ea59542e5d",
    "deepnote_cell_type": "markdown",
    "tags": []
   },
   "source": [
    "# Process, Generate and Save Data"
   ]
  },
  {
   "cell_type": "code",
   "execution_count": 1,
   "metadata": {},
   "outputs": [],
   "source": [
    "from utils import *"
   ]
  },
  {
   "cell_type": "code",
   "execution_count": 2,
   "metadata": {},
   "outputs": [
    {
     "name": "stdout",
     "output_type": "stream",
     "text": [
      "CPU times: user 2min 14s, sys: 29.9 s, total: 2min 43s\n",
      "Wall time: 5min 6s\n"
     ]
    }
   ],
   "source": [
    "%%time\n",
    "df = csvs_to_df()"
   ]
  },
  {
   "cell_type": "code",
   "execution_count": 3,
   "metadata": {},
   "outputs": [
    {
     "data": {
      "text/html": [
       "<div>\n",
       "<style scoped>\n",
       "    .dataframe tbody tr th:only-of-type {\n",
       "        vertical-align: middle;\n",
       "    }\n",
       "\n",
       "    .dataframe tbody tr th {\n",
       "        vertical-align: top;\n",
       "    }\n",
       "\n",
       "    .dataframe thead th {\n",
       "        text-align: right;\n",
       "    }\n",
       "</style>\n",
       "<table border=\"1\" class=\"dataframe\">\n",
       "  <thead>\n",
       "    <tr style=\"text-align: right;\">\n",
       "      <th></th>\n",
       "      <th>timestamp</th>\n",
       "      <th>event</th>\n",
       "      <th>distinct_id</th>\n",
       "      <th>url</th>\n",
       "      <th>browser</th>\n",
       "      <th>browser_version</th>\n",
       "      <th>device</th>\n",
       "      <th>initial_referrer</th>\n",
       "      <th>initial_referring_domain</th>\n",
       "      <th>os</th>\n",
       "      <th>...</th>\n",
       "      <th>categories</th>\n",
       "      <th>category_scores</th>\n",
       "      <th>question_labels</th>\n",
       "      <th>question_scores</th>\n",
       "      <th>total_score</th>\n",
       "      <th>total_score_normalized</th>\n",
       "      <th>mp_country_code</th>\n",
       "      <th>city</th>\n",
       "      <th>radio</th>\n",
       "      <th>region</th>\n",
       "    </tr>\n",
       "  </thead>\n",
       "  <tbody>\n",
       "    <tr>\n",
       "      <th>0</th>\n",
       "      <td>2020-04-07 04:23:37</td>\n",
       "      <td>Page Load</td>\n",
       "      <td>e0ec2fbc-e18a-4072-9a83-dc4b74a96579</td>\n",
       "      <td>/logout/</td>\n",
       "      <td>Chrome</td>\n",
       "      <td>80.0</td>\n",
       "      <td>NaN</td>\n",
       "      <td>$direct</td>\n",
       "      <td>$direct</td>\n",
       "      <td>Mac OS X</td>\n",
       "      <td>...</td>\n",
       "      <td>NaN</td>\n",
       "      <td>NaN</td>\n",
       "      <td>NaN</td>\n",
       "      <td>NaN</td>\n",
       "      <td>NaN</td>\n",
       "      <td>NaN</td>\n",
       "      <td>NaN</td>\n",
       "      <td>NaN</td>\n",
       "      <td>NaN</td>\n",
       "      <td>NaN</td>\n",
       "    </tr>\n",
       "    <tr>\n",
       "      <th>1</th>\n",
       "      <td>2020-04-07 10:19:52</td>\n",
       "      <td>Assessments Received</td>\n",
       "      <td>54b836dd-53da-48d6-aca7-9bad43ba6713</td>\n",
       "      <td>NaN</td>\n",
       "      <td>NaN</td>\n",
       "      <td>NaN</td>\n",
       "      <td>NaN</td>\n",
       "      <td>NaN</td>\n",
       "      <td>NaN</td>\n",
       "      <td>NaN</td>\n",
       "      <td>...</td>\n",
       "      <td>NaN</td>\n",
       "      <td>NaN</td>\n",
       "      <td>NaN</td>\n",
       "      <td>NaN</td>\n",
       "      <td>NaN</td>\n",
       "      <td>NaN</td>\n",
       "      <td>NaN</td>\n",
       "      <td>NaN</td>\n",
       "      <td>NaN</td>\n",
       "      <td>NaN</td>\n",
       "    </tr>\n",
       "    <tr>\n",
       "      <th>2</th>\n",
       "      <td>2020-04-07 10:19:52</td>\n",
       "      <td>Signup</td>\n",
       "      <td>54b836dd-53da-48d6-aca7-9bad43ba6713</td>\n",
       "      <td>NaN</td>\n",
       "      <td>NaN</td>\n",
       "      <td>NaN</td>\n",
       "      <td>NaN</td>\n",
       "      <td>NaN</td>\n",
       "      <td>NaN</td>\n",
       "      <td>NaN</td>\n",
       "      <td>...</td>\n",
       "      <td>NaN</td>\n",
       "      <td>NaN</td>\n",
       "      <td>NaN</td>\n",
       "      <td>NaN</td>\n",
       "      <td>NaN</td>\n",
       "      <td>NaN</td>\n",
       "      <td>NaN</td>\n",
       "      <td>NaN</td>\n",
       "      <td>NaN</td>\n",
       "      <td>NaN</td>\n",
       "    </tr>\n",
       "    <tr>\n",
       "      <th>3</th>\n",
       "      <td>2020-04-07 10:19:53</td>\n",
       "      <td>Page Load</td>\n",
       "      <td>54b836dd-53da-48d6-aca7-9bad43ba6713</td>\n",
       "      <td>/accounts/profile/patient/complete/</td>\n",
       "      <td>Chrome</td>\n",
       "      <td>80.0</td>\n",
       "      <td>NaN</td>\n",
       "      <td>$direct</td>\n",
       "      <td>$direct</td>\n",
       "      <td>Mac OS X</td>\n",
       "      <td>...</td>\n",
       "      <td>NaN</td>\n",
       "      <td>NaN</td>\n",
       "      <td>NaN</td>\n",
       "      <td>NaN</td>\n",
       "      <td>NaN</td>\n",
       "      <td>NaN</td>\n",
       "      <td>NaN</td>\n",
       "      <td>NaN</td>\n",
       "      <td>NaN</td>\n",
       "      <td>NaN</td>\n",
       "    </tr>\n",
       "    <tr>\n",
       "      <th>4</th>\n",
       "      <td>2020-04-07 10:47:06</td>\n",
       "      <td>Complete Profile</td>\n",
       "      <td>54b836dd-53da-48d6-aca7-9bad43ba6713</td>\n",
       "      <td>NaN</td>\n",
       "      <td>NaN</td>\n",
       "      <td>NaN</td>\n",
       "      <td>NaN</td>\n",
       "      <td>NaN</td>\n",
       "      <td>NaN</td>\n",
       "      <td>NaN</td>\n",
       "      <td>...</td>\n",
       "      <td>NaN</td>\n",
       "      <td>NaN</td>\n",
       "      <td>NaN</td>\n",
       "      <td>NaN</td>\n",
       "      <td>NaN</td>\n",
       "      <td>NaN</td>\n",
       "      <td>NaN</td>\n",
       "      <td>NaN</td>\n",
       "      <td>NaN</td>\n",
       "      <td>NaN</td>\n",
       "    </tr>\n",
       "    <tr>\n",
       "      <th>...</th>\n",
       "      <td>...</td>\n",
       "      <td>...</td>\n",
       "      <td>...</td>\n",
       "      <td>...</td>\n",
       "      <td>...</td>\n",
       "      <td>...</td>\n",
       "      <td>...</td>\n",
       "      <td>...</td>\n",
       "      <td>...</td>\n",
       "      <td>...</td>\n",
       "      <td>...</td>\n",
       "      <td>...</td>\n",
       "      <td>...</td>\n",
       "      <td>...</td>\n",
       "      <td>...</td>\n",
       "      <td>...</td>\n",
       "      <td>...</td>\n",
       "      <td>...</td>\n",
       "      <td>...</td>\n",
       "      <td>...</td>\n",
       "      <td>...</td>\n",
       "    </tr>\n",
       "    <tr>\n",
       "      <th>14934709</th>\n",
       "      <td>2022-03-31 23:59:40</td>\n",
       "      <td>App Page Load</td>\n",
       "      <td>74ACAFD1-99B7-4F2A-ACFD-0981D5632248</td>\n",
       "      <td>NaN</td>\n",
       "      <td>NaN</td>\n",
       "      <td>NaN</td>\n",
       "      <td>NaN</td>\n",
       "      <td>NaN</td>\n",
       "      <td>NaN</td>\n",
       "      <td>iOS</td>\n",
       "      <td>...</td>\n",
       "      <td>NaN</td>\n",
       "      <td>NaN</td>\n",
       "      <td>NaN</td>\n",
       "      <td>NaN</td>\n",
       "      <td>NaN</td>\n",
       "      <td>NaN</td>\n",
       "      <td>NaN</td>\n",
       "      <td>NaN</td>\n",
       "      <td>LTE</td>\n",
       "      <td>NaN</td>\n",
       "    </tr>\n",
       "    <tr>\n",
       "      <th>14934710</th>\n",
       "      <td>2022-03-31 23:59:40</td>\n",
       "      <td>Screen Load</td>\n",
       "      <td>74ACAFD1-99B7-4F2A-ACFD-0981D5632248</td>\n",
       "      <td>NaN</td>\n",
       "      <td>NaN</td>\n",
       "      <td>NaN</td>\n",
       "      <td>NaN</td>\n",
       "      <td>NaN</td>\n",
       "      <td>NaN</td>\n",
       "      <td>iOS</td>\n",
       "      <td>...</td>\n",
       "      <td>NaN</td>\n",
       "      <td>NaN</td>\n",
       "      <td>NaN</td>\n",
       "      <td>NaN</td>\n",
       "      <td>NaN</td>\n",
       "      <td>NaN</td>\n",
       "      <td>NaN</td>\n",
       "      <td>NaN</td>\n",
       "      <td>LTE</td>\n",
       "      <td>NaN</td>\n",
       "    </tr>\n",
       "    <tr>\n",
       "      <th>14934711</th>\n",
       "      <td>2022-03-31 23:59:40</td>\n",
       "      <td>Self Assessment Skipped</td>\n",
       "      <td>74ACAFD1-99B7-4F2A-ACFD-0981D5632248</td>\n",
       "      <td>NaN</td>\n",
       "      <td>NaN</td>\n",
       "      <td>NaN</td>\n",
       "      <td>NaN</td>\n",
       "      <td>NaN</td>\n",
       "      <td>NaN</td>\n",
       "      <td>iOS</td>\n",
       "      <td>...</td>\n",
       "      <td>NaN</td>\n",
       "      <td>NaN</td>\n",
       "      <td>NaN</td>\n",
       "      <td>NaN</td>\n",
       "      <td>NaN</td>\n",
       "      <td>NaN</td>\n",
       "      <td>NaN</td>\n",
       "      <td>NaN</td>\n",
       "      <td>LTE</td>\n",
       "      <td>NaN</td>\n",
       "    </tr>\n",
       "    <tr>\n",
       "      <th>14934712</th>\n",
       "      <td>2022-03-31 23:59:40</td>\n",
       "      <td>App Page Load</td>\n",
       "      <td>74ACAFD1-99B7-4F2A-ACFD-0981D5632248</td>\n",
       "      <td>NaN</td>\n",
       "      <td>NaN</td>\n",
       "      <td>NaN</td>\n",
       "      <td>NaN</td>\n",
       "      <td>NaN</td>\n",
       "      <td>NaN</td>\n",
       "      <td>iOS</td>\n",
       "      <td>...</td>\n",
       "      <td>NaN</td>\n",
       "      <td>NaN</td>\n",
       "      <td>NaN</td>\n",
       "      <td>NaN</td>\n",
       "      <td>NaN</td>\n",
       "      <td>NaN</td>\n",
       "      <td>NaN</td>\n",
       "      <td>NaN</td>\n",
       "      <td>LTE</td>\n",
       "      <td>NaN</td>\n",
       "    </tr>\n",
       "    <tr>\n",
       "      <th>14934713</th>\n",
       "      <td>2022-03-31 23:59:50</td>\n",
       "      <td>$ae_session</td>\n",
       "      <td>74ACAFD1-99B7-4F2A-ACFD-0981D5632248</td>\n",
       "      <td>NaN</td>\n",
       "      <td>NaN</td>\n",
       "      <td>NaN</td>\n",
       "      <td>NaN</td>\n",
       "      <td>NaN</td>\n",
       "      <td>NaN</td>\n",
       "      <td>iOS</td>\n",
       "      <td>...</td>\n",
       "      <td>NaN</td>\n",
       "      <td>NaN</td>\n",
       "      <td>NaN</td>\n",
       "      <td>NaN</td>\n",
       "      <td>NaN</td>\n",
       "      <td>NaN</td>\n",
       "      <td>NaN</td>\n",
       "      <td>NaN</td>\n",
       "      <td>LTE</td>\n",
       "      <td>NaN</td>\n",
       "    </tr>\n",
       "  </tbody>\n",
       "</table>\n",
       "<p>14934714 rows × 31 columns</p>\n",
       "</div>"
      ],
      "text/plain": [
       "                   timestamp                    event  \\\n",
       "0        2020-04-07 04:23:37                Page Load   \n",
       "1        2020-04-07 10:19:52     Assessments Received   \n",
       "2        2020-04-07 10:19:52                   Signup   \n",
       "3        2020-04-07 10:19:53                Page Load   \n",
       "4        2020-04-07 10:47:06         Complete Profile   \n",
       "...                      ...                      ...   \n",
       "14934709 2022-03-31 23:59:40            App Page Load   \n",
       "14934710 2022-03-31 23:59:40              Screen Load   \n",
       "14934711 2022-03-31 23:59:40  Self Assessment Skipped   \n",
       "14934712 2022-03-31 23:59:40            App Page Load   \n",
       "14934713 2022-03-31 23:59:50              $ae_session   \n",
       "\n",
       "                                   distinct_id  \\\n",
       "0         e0ec2fbc-e18a-4072-9a83-dc4b74a96579   \n",
       "1         54b836dd-53da-48d6-aca7-9bad43ba6713   \n",
       "2         54b836dd-53da-48d6-aca7-9bad43ba6713   \n",
       "3         54b836dd-53da-48d6-aca7-9bad43ba6713   \n",
       "4         54b836dd-53da-48d6-aca7-9bad43ba6713   \n",
       "...                                        ...   \n",
       "14934709  74ACAFD1-99B7-4F2A-ACFD-0981D5632248   \n",
       "14934710  74ACAFD1-99B7-4F2A-ACFD-0981D5632248   \n",
       "14934711  74ACAFD1-99B7-4F2A-ACFD-0981D5632248   \n",
       "14934712  74ACAFD1-99B7-4F2A-ACFD-0981D5632248   \n",
       "14934713  74ACAFD1-99B7-4F2A-ACFD-0981D5632248   \n",
       "\n",
       "                                          url browser  browser_version device  \\\n",
       "0                                    /logout/  Chrome             80.0    NaN   \n",
       "1                                         NaN     NaN              NaN    NaN   \n",
       "2                                         NaN     NaN              NaN    NaN   \n",
       "3         /accounts/profile/patient/complete/  Chrome             80.0    NaN   \n",
       "4                                         NaN     NaN              NaN    NaN   \n",
       "...                                       ...     ...              ...    ...   \n",
       "14934709                                  NaN     NaN              NaN    NaN   \n",
       "14934710                                  NaN     NaN              NaN    NaN   \n",
       "14934711                                  NaN     NaN              NaN    NaN   \n",
       "14934712                                  NaN     NaN              NaN    NaN   \n",
       "14934713                                  NaN     NaN              NaN    NaN   \n",
       "\n",
       "         initial_referrer initial_referring_domain        os  ... categories  \\\n",
       "0                 $direct                  $direct  Mac OS X  ...        NaN   \n",
       "1                     NaN                      NaN       NaN  ...        NaN   \n",
       "2                     NaN                      NaN       NaN  ...        NaN   \n",
       "3                 $direct                  $direct  Mac OS X  ...        NaN   \n",
       "4                     NaN                      NaN       NaN  ...        NaN   \n",
       "...                   ...                      ...       ...  ...        ...   \n",
       "14934709              NaN                      NaN       iOS  ...        NaN   \n",
       "14934710              NaN                      NaN       iOS  ...        NaN   \n",
       "14934711              NaN                      NaN       iOS  ...        NaN   \n",
       "14934712              NaN                      NaN       iOS  ...        NaN   \n",
       "14934713              NaN                      NaN       iOS  ...        NaN   \n",
       "\n",
       "         category_scores  question_labels  question_scores total_score  \\\n",
       "0                    NaN              NaN              NaN         NaN   \n",
       "1                    NaN              NaN              NaN         NaN   \n",
       "2                    NaN              NaN              NaN         NaN   \n",
       "3                    NaN              NaN              NaN         NaN   \n",
       "4                    NaN              NaN              NaN         NaN   \n",
       "...                  ...              ...              ...         ...   \n",
       "14934709             NaN              NaN              NaN         NaN   \n",
       "14934710             NaN              NaN              NaN         NaN   \n",
       "14934711             NaN              NaN              NaN         NaN   \n",
       "14934712             NaN              NaN              NaN         NaN   \n",
       "14934713             NaN              NaN              NaN         NaN   \n",
       "\n",
       "         total_score_normalized mp_country_code city radio region  \n",
       "0                           NaN             NaN  NaN   NaN    NaN  \n",
       "1                           NaN             NaN  NaN   NaN    NaN  \n",
       "2                           NaN             NaN  NaN   NaN    NaN  \n",
       "3                           NaN             NaN  NaN   NaN    NaN  \n",
       "4                           NaN             NaN  NaN   NaN    NaN  \n",
       "...                         ...             ...  ...   ...    ...  \n",
       "14934709                    NaN             NaN  NaN   LTE    NaN  \n",
       "14934710                    NaN             NaN  NaN   LTE    NaN  \n",
       "14934711                    NaN             NaN  NaN   LTE    NaN  \n",
       "14934712                    NaN             NaN  NaN   LTE    NaN  \n",
       "14934713                    NaN             NaN  NaN   LTE    NaN  \n",
       "\n",
       "[14934714 rows x 31 columns]"
      ]
     },
     "execution_count": 3,
     "metadata": {},
     "output_type": "execute_result"
    }
   ],
   "source": [
    "df = process_df(df)\n",
    "df"
   ]
  },
  {
   "cell_type": "code",
   "execution_count": 4,
   "metadata": {},
   "outputs": [
    {
     "data": {
      "text/plain": [
       "Index(['timestamp', 'event', 'distinct_id', 'url', 'browser',\n",
       "       'browser_version', 'device', 'initial_referrer',\n",
       "       'initial_referring_domain', 'os', 'referrer', 'referring_domain',\n",
       "       'screen_height', 'screen_width', 'url_name', 'response_id', 'slug',\n",
       "       'source', 'language', 'organization', 'organization_name', 'categories',\n",
       "       'category_scores', 'question_labels', 'question_scores', 'total_score',\n",
       "       'total_score_normalized', 'mp_country_code', 'city', 'radio', 'region'],\n",
       "      dtype='object')"
      ]
     },
     "execution_count": 4,
     "metadata": {},
     "output_type": "execute_result"
    }
   ],
   "source": [
    "df.columns"
   ]
  },
  {
   "cell_type": "code",
   "execution_count": 5,
   "metadata": {},
   "outputs": [
    {
     "name": "stdout",
     "output_type": "stream",
     "text": [
      "CPU times: user 11.5 s, sys: 1.08 s, total: 12.5 s\n",
      "Wall time: 15.2 s\n"
     ]
    }
   ],
   "source": [
    "%%time\n",
    "df_assess = get_df_assess(df)"
   ]
  },
  {
   "cell_type": "code",
   "execution_count": 6,
   "metadata": {},
   "outputs": [],
   "source": [
    "file_name = 'mixpanel_assessment_complete_events_from_2021-01-01_to_2022-06-30.csv'\n",
    "save_pd_to_csv(df_assess, file_name)"
   ]
  },
  {
   "cell_type": "code",
   "execution_count": 7,
   "metadata": {},
   "outputs": [
    {
     "name": "stdout",
     "output_type": "stream",
     "text": [
      "CPU times: user 3.05 s, sys: 1.24 s, total: 4.29 s\n",
      "Wall time: 3.23 s\n"
     ]
    }
   ],
   "source": [
    "%%time\n",
    "df_assess_fl = get_first_last_assess(df_assess)"
   ]
  },
  {
   "cell_type": "code",
   "execution_count": 8,
   "metadata": {},
   "outputs": [],
   "source": [
    "file_name = 'mixpanel_users_assess_scores_from_2021-01-01_to_2022-06-30.csv'\n",
    "save_pd_to_csv(df_assess_fl, file_name)"
   ]
  },
  {
   "cell_type": "code",
   "execution_count": 9,
   "metadata": {},
   "outputs": [
    {
     "name": "stdout",
     "output_type": "stream",
     "text": [
      "CPU times: user 2.13 s, sys: 71.7 ms, total: 2.2 s\n",
      "Wall time: 2.19 s\n"
     ]
    }
   ],
   "source": [
    "%%time\n",
    "df_use_resource = get_df_use_resource(df)"
   ]
  },
  {
   "cell_type": "code",
   "execution_count": 10,
   "metadata": {},
   "outputs": [],
   "source": [
    "file_name = 'mixpanel_use_resource_events_from_2020-04-05_to_2022-03-31.csv'\n",
    "save_pd_to_csv(df_use_resource, file_name)"
   ]
  },
  {
   "cell_type": "code",
   "execution_count": 11,
   "metadata": {},
   "outputs": [
    {
     "name": "stdout",
     "output_type": "stream",
     "text": [
      "CPU times: user 37.2 s, sys: 647 ms, total: 37.8 s\n",
      "Wall time: 38 s\n"
     ]
    }
   ],
   "source": [
    "%%time\n",
    "df_accesses = get_df_accesses(df_use_resource)"
   ]
  },
  {
   "cell_type": "code",
   "execution_count": 12,
   "metadata": {},
   "outputs": [],
   "source": [
    "file_name = 'mixpanel_use_resource_unduplicated_events_from_2020-04-05_to_2022-03-31.csv'\n",
    "save_pd_to_csv(df_accesses, file_name)"
   ]
  },
  {
   "cell_type": "code",
   "execution_count": 13,
   "metadata": {},
   "outputs": [
    {
     "name": "stdout",
     "output_type": "stream",
     "text": [
      "CPU times: user 2.76 s, sys: 172 ms, total: 2.93 s\n",
      "Wall time: 2.93 s\n"
     ]
    }
   ],
   "source": [
    "%%time\n",
    "df_first_access = get_df_first_access(df_accesses)"
   ]
  },
  {
   "cell_type": "code",
   "execution_count": 14,
   "metadata": {},
   "outputs": [],
   "source": [
    "file_name = 'df_first_access.csv'\n",
    "save_pd_to_csv(df_first_access, file_name)"
   ]
  },
  {
   "cell_type": "code",
   "execution_count": 15,
   "metadata": {},
   "outputs": [
    {
     "name": "stdout",
     "output_type": "stream",
     "text": [
      "CPU times: user 40 s, sys: 3.92 s, total: 43.9 s\n",
      "Wall time: 54.2 s\n"
     ]
    }
   ],
   "source": [
    "%%time\n",
    "df_first_access_merged = get_df_first_access_merged(df, df_accesses, df_first_access)"
   ]
  },
  {
   "cell_type": "code",
   "execution_count": 16,
   "metadata": {},
   "outputs": [],
   "source": [
    "file_name = 'mixpanel_users_outerjoin_from_2021-01-01_to_2022-02-28.csv'\n",
    "save_pd_to_csv(df_first_access_merged, file_name)"
   ]
  },
  {
   "cell_type": "code",
   "execution_count": 17,
   "metadata": {},
   "outputs": [
    {
     "name": "stdout",
     "output_type": "stream",
     "text": [
      "CPU times: user 1.48 s, sys: 59.4 ms, total: 1.54 s\n",
      "Wall time: 1.53 s\n"
     ]
    }
   ],
   "source": [
    "%%time\n",
    "df_access_count = get_df_access_count(df_accesses)"
   ]
  },
  {
   "cell_type": "code",
   "execution_count": 18,
   "metadata": {},
   "outputs": [],
   "source": [
    "file_name = 'df_access_count.csv'\n",
    "save_pd_to_csv(df_access_count, file_name)"
   ]
  },
  {
   "cell_type": "code",
   "execution_count": 19,
   "metadata": {},
   "outputs": [
    {
     "name": "stdout",
     "output_type": "stream",
     "text": [
      "CPU times: user 590 ms, sys: 8.09 ms, total: 598 ms\n",
      "Wall time: 596 ms\n"
     ]
    }
   ],
   "source": [
    "%%time\n",
    "df_assess_fl_access = get_df_assess_fl_access(df_assess_fl, df_access_count)"
   ]
  },
  {
   "cell_type": "code",
   "execution_count": 20,
   "metadata": {},
   "outputs": [],
   "source": [
    "file_name = 'mixpanel_users_assessments_from_2021-01-01_to_2022-03-31.csv'\n",
    "save_pd_to_csv(df_assess_fl_access, file_name)"
   ]
  }
 ],
 "metadata": {
  "deepnote": {
   "is_reactive": false
  },
  "deepnote_app_layout": "dashboard",
  "deepnote_execution_queue": [],
  "deepnote_notebook_id": "16cc3c02-75ee-47b0-a971-63839df9285c",
  "kernelspec": {
   "display_name": "Python 3",
   "language": "python",
   "name": "python3"
  },
  "language_info": {
   "codemirror_mode": {
    "name": "ipython",
    "version": 3
   },
   "file_extension": ".py",
   "mimetype": "text/x-python",
   "name": "python",
   "nbconvert_exporter": "python",
   "pygments_lexer": "ipython3",
   "version": "3.8.5"
  }
 },
 "nbformat": 4,
 "nbformat_minor": 2
}
